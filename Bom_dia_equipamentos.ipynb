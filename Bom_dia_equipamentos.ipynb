{
  "nbformat": 4,
  "nbformat_minor": 0,
  "metadata": {
    "colab": {
      "provenance": [],
      "authorship_tag": "ABX9TyNfjUl/j9roLPImIgHuvAF/",
      "include_colab_link": true
    },
    "kernelspec": {
      "name": "python3",
      "display_name": "Python 3"
    },
    "language_info": {
      "name": "python"
    }
  },
  "cells": [
    {
      "cell_type": "markdown",
      "metadata": {
        "id": "view-in-github",
        "colab_type": "text"
      },
      "source": [
        "<a href=\"https://colab.research.google.com/github/Jaqueline-Nascimento/BomDiaEquipamentos-LRB/blob/main/Bom_dia_equipamentos.ipynb\" target=\"_parent\"><img src=\"https://colab.research.google.com/assets/colab-badge.svg\" alt=\"Open In Colab\"/></a>"
      ]
    },
    {
      "cell_type": "code",
      "source": [
        "!pip install flask\n",
        "!pip install requests\n"
      ],
      "metadata": {
        "colab": {
          "base_uri": "https://localhost:8080/"
        },
        "id": "Pvcnu6DBEjpP",
        "outputId": "315a96e6-0dd5-439a-e576-21396e830678"
      },
      "execution_count": 5,
      "outputs": [
        {
          "output_type": "stream",
          "name": "stderr",
          "text": [
            "ERROR:root:Unexpected exception finding object shape\n",
            "Traceback (most recent call last):\n",
            "  File \"/usr/local/lib/python3.10/dist-packages/google/colab/_debugpy_repr.py\", line 54, in get_shape\n",
            "    shape = getattr(obj, 'shape', None)\n",
            "  File \"/usr/local/lib/python3.10/dist-packages/werkzeug/local.py\", line 311, in __get__\n",
            "    obj = instance._get_current_object()\n",
            "  File \"/usr/local/lib/python3.10/dist-packages/werkzeug/local.py\", line 508, in _get_current_object\n",
            "    raise RuntimeError(unbound_message) from None\n",
            "RuntimeError: Working outside of request context.\n",
            "\n",
            "This typically means that you attempted to use functionality that needed\n",
            "an active HTTP request. Consult the documentation on testing for\n",
            "information about how to avoid this problem.\n"
          ]
        },
        {
          "output_type": "stream",
          "name": "stdout",
          "text": [
            "Requirement already satisfied: flask in /usr/local/lib/python3.10/dist-packages (2.2.5)\n",
            "Requirement already satisfied: Werkzeug>=2.2.2 in /usr/local/lib/python3.10/dist-packages (from flask) (3.0.2)\n",
            "Requirement already satisfied: Jinja2>=3.0 in /usr/local/lib/python3.10/dist-packages (from flask) (3.1.3)\n",
            "Requirement already satisfied: itsdangerous>=2.0 in /usr/local/lib/python3.10/dist-packages (from flask) (2.2.0)\n",
            "Requirement already satisfied: click>=8.0 in /usr/local/lib/python3.10/dist-packages (from flask) (8.1.7)\n",
            "Requirement already satisfied: MarkupSafe>=2.0 in /usr/local/lib/python3.10/dist-packages (from Jinja2>=3.0->flask) (2.1.5)\n"
          ]
        },
        {
          "output_type": "stream",
          "name": "stderr",
          "text": [
            "ERROR:root:Unexpected exception finding object shape\n",
            "Traceback (most recent call last):\n",
            "  File \"/usr/local/lib/python3.10/dist-packages/google/colab/_debugpy_repr.py\", line 54, in get_shape\n",
            "    shape = getattr(obj, 'shape', None)\n",
            "  File \"/usr/local/lib/python3.10/dist-packages/werkzeug/local.py\", line 311, in __get__\n",
            "    obj = instance._get_current_object()\n",
            "  File \"/usr/local/lib/python3.10/dist-packages/werkzeug/local.py\", line 508, in _get_current_object\n",
            "    raise RuntimeError(unbound_message) from None\n",
            "RuntimeError: Working outside of request context.\n",
            "\n",
            "This typically means that you attempted to use functionality that needed\n",
            "an active HTTP request. Consult the documentation on testing for\n",
            "information about how to avoid this problem.\n",
            "ERROR:root:Unexpected exception finding object shape\n",
            "Traceback (most recent call last):\n",
            "  File \"/usr/local/lib/python3.10/dist-packages/google/colab/_debugpy_repr.py\", line 54, in get_shape\n",
            "    shape = getattr(obj, 'shape', None)\n",
            "  File \"/usr/local/lib/python3.10/dist-packages/werkzeug/local.py\", line 311, in __get__\n",
            "    obj = instance._get_current_object()\n",
            "  File \"/usr/local/lib/python3.10/dist-packages/werkzeug/local.py\", line 508, in _get_current_object\n",
            "    raise RuntimeError(unbound_message) from None\n",
            "RuntimeError: Working outside of request context.\n",
            "\n",
            "This typically means that you attempted to use functionality that needed\n",
            "an active HTTP request. Consult the documentation on testing for\n",
            "information about how to avoid this problem.\n"
          ]
        },
        {
          "output_type": "stream",
          "name": "stdout",
          "text": [
            "Requirement already satisfied: requests in /usr/local/lib/python3.10/dist-packages (2.31.0)\n",
            "Requirement already satisfied: charset-normalizer<4,>=2 in /usr/local/lib/python3.10/dist-packages (from requests) (3.3.2)\n",
            "Requirement already satisfied: idna<4,>=2.5 in /usr/local/lib/python3.10/dist-packages (from requests) (3.7)\n",
            "Requirement already satisfied: urllib3<3,>=1.21.1 in /usr/local/lib/python3.10/dist-packages (from requests) (2.0.7)\n",
            "Requirement already satisfied: certifi>=2017.4.17 in /usr/local/lib/python3.10/dist-packages (from requests) (2024.2.2)\n"
          ]
        }
      ]
    },
    {
      "cell_type": "code",
      "source": [
        "from flask import Flask, render_template, request, redirect, url_for\n",
        "import requests\n",
        "import logging\n",
        "logging.basicConfig(level=logging.DEBUG)"
      ],
      "metadata": {
        "id": "JlF9bcc1DMv7"
      },
      "execution_count": 1,
      "outputs": []
    },
    {
      "cell_type": "code",
      "source": [
        "from flask import Flask, render_template, request, redirect, url_for\n",
        "import requests\n",
        "import logging\n",
        "logging.basicConfig(level=logging.DEBUG)\n",
        "\n",
        "app = Flask(__name__)\n",
        "app.secret_key = 'your_secret_key'\n",
        "\n",
        "# Configuração do logging\n",
        "logging.basicConfig(level=logging.DEBUG)\n",
        "app.logger.addHandler(logging.StreamHandler())\n",
        "app.logger.setLevel(logging.DEBUG)\n",
        "\n",
        "# Sample data for equipment quotas by management area\n",
        "dados_iniciais = {\n",
        "    'BG16F': {'rocadeira': 17, 'soprador': 10, 'motopoda': 1, 'motosserra': 0},\n",
        "    'BG16J': {'rocadeira': 17, 'soprador': 10, 'motopoda': 1, 'motosserra': 0},\n",
        "    'BG24B': {'rocadeira': 31, 'soprador': 11, 'motopoda': 1, 'motosserra': 0},\n",
        "    'BG24R': {'rocadeira': 29, 'soprador': 11, 'motopoda': 1, 'motosserra': 0},\n",
        "    'BGE': {'rocadeira': 20, 'soprador': 18, 'motopoda': 1, 'motosserra': 6}\n",
        "}\n",
        "\n",
        "\n",
        "equipamentos = {\n",
        "    'Roçadeiras': {\n",
        "        'oficina': 0,\n",
        "        'quebradas': 0,\n",
        "        'turnos': [\n",
        "            {'turno': '1º Turno', 'disponiveis': 0, 'operando': 0},\n",
        "            {'turno': '2º Turno', 'disponiveis': 0, 'operando': 0},\n",
        "            {'turno': '3º Turno', 'disponiveis': 0, 'operando': 0}\n",
        "        ]\n",
        "    }\n",
        "}\n",
        "\n",
        "\n",
        "@app.route('/', methods=['GET', 'POST'])\n",
        "def index():\n",
        "    if request.method == 'POST':\n",
        "        gerencia_selecionada = request.form.get('gerencia')\n",
        "    else:\n",
        "        gerencia_selecionada = None\n",
        "\n",
        "    # Log para diagnóstico\n",
        "    print(\"Hello World\")\n",
        "    print(\"Gerência Selecionada:\", gerencia_selecionada)\n",
        "\n",
        "    quotas = dados_iniciais.get(gerencia_selecionada, {})\n",
        "    print(\"Quotas:\", quotas)\n",
        "\n",
        "    if not quotas:\n",
        "        print(\"Quotas: {} (Gerência não encontrada ou sem quotas)\")\n",
        "\n",
        "    # Aqui você pode renderizar a template passando as variáveis necessárias\n",
        "    return render_template('index.html', quotas=quotas, equipamentos=equipamentos)\n",
        "\n",
        "\n",
        "\n",
        "\n",
        "\n",
        "\n",
        "\n",
        "\n",
        "    #return render_template('index.html', quotas=dados_iniciais, equipamento=equipamentos)\n",
        "\n",
        "\n",
        "@app.route('/update', methods=['POST'])\n",
        "def update():\n",
        "    # Retrieve selected management from form\n",
        "    gerencia_selecionada = request.form['gerencia']\n",
        "    cotas_gerencia = dados_iniciais.get(gerencia_selecionada, {})\n",
        "\n",
        "    # Prepare data for POST request to Google Apps Script\n",
        "    data = {\n",
        "        'gerencia': gerencia_selecionada,\n",
        "        'data': request.form['data'],\n",
        "        'observacoes': request.form.get('observacoes', ''),\n",
        "        'cota_rocadeira': cotas_gerencia.get('rocadeira', 0),\n",
        "        'cota_soprador': cotas_gerencia.get('soprador', 0),\n",
        "        'cota_motopoda': cotas_gerencia.get('motopoda', 0),\n",
        "        'cota_motosserra': cotas_gerencia.get('motosserra', 0),\n",
        "        'equipamentos': []\n",
        "    }\n",
        "\n",
        "    # Collect detailed information for each type of equipment\n",
        "    for equip in ['rocadeira', 'soprador', 'motopoda', 'motosserra']:\n",
        "        equip_info = {\n",
        "                'oficina': request.form.get(f\"oficina_{equip}\", 0),\n",
        "                'quebradas': request.form.get(f\"quebradas_{equip}\", 0),\n",
        "                'disponivel': request.form.get(f\"disponivel_{equip}\", 0),\n",
        "                'cota_rocadeira': cotas_gerencia.get('rocadeira', 0),  # Cota de roçadeiras\n",
        "                'cota_soprador': cotas_gerencia.get('soprador', 0),  # Cota de sopradores\n",
        "                'cota_motopoda': cotas_gerencia.get('motopoda', 0),  # Cota de motopodas\n",
        "                'cota_motosserra': cotas_gerencia.get('motosserra', 0),  # Cota de motosserras\n",
        "                'oficina_rocadeiras': request.form.get(f\"oficina_rocadeiras_{equip}\", 0),\n",
        "                'oficina_sopradores': request.form.get(f\"oficina_sopradores_{equip}\", 0),\n",
        "                'oficina_motopodas': request.form.get(f\"oficina_motopodas_{equip}\", 0),\n",
        "                'oficina_motosserras': request.form.get(f\"oficina_motosserras_{equip}\", 0),\n",
        "                'quebradas_rocadeiras': request.form.get(f\"quebradas_rocadeiras_{equip}\", 0),\n",
        "                'quebradas_sopradores': request.form.get(f\"quebradas_sopradores_{equip}\", 0),\n",
        "                'quebradas_motopodas': request.form.get(f\"quebradas_motopodas_{equip}\", 0),\n",
        "                'quebradas_motosserras': request.form.get(f\"quebradas_motosserras_{equip}\", 0),\n",
        "                'disponivel_rocadeiras': request.form.get(f\"disponivel_rocadeiras_{equip}\", 0),\n",
        "                'disponivel_sopradores': request.form.get(f\"disponivel_sopradores_{equip}\", 0),\n",
        "                'disponivel_motopodas': request.form.get(f\"disponivel_motopodas_{equip}\", 0),\n",
        "                'disponivel_motosserras': request.form.get(f\"disponivel_motosserras_{equip}\", 0)\n",
        "            }\n",
        "\n",
        "        data['equipamentos'].append(equip_info)\n",
        "\n",
        "    # URL for Google Apps Script\n",
        "    url = 'https://script.google.com/macros/s/YOUR_SCRIPT_ID/exec'\n",
        "    response = requests.post(url, json=data)\n",
        "    if response.status_code == 200:\n",
        "        print(\"Dados enviados com sucesso!\")\n",
        "    else:\n",
        "        print(\"Falha ao enviar dados!\")\n",
        "\n",
        "    # Redirect back to the main page\n",
        "    return redirect(url_for('index'))\n",
        "\n",
        "if __name__ == '__main__':\n",
        "    app.run(host='0.0.0.0', port=5000, debug=True)"
      ],
      "metadata": {
        "colab": {
          "base_uri": "https://localhost:8080/"
        },
        "id": "Td_tGHKzE2aX",
        "outputId": "8e249f55-9858-4175-860e-28ae3a313b65"
      },
      "execution_count": null,
      "outputs": [
        {
          "output_type": "stream",
          "name": "stdout",
          "text": [
            " * Serving Flask app '__main__'\n",
            " * Debug mode: on\n"
          ]
        },
        {
          "output_type": "stream",
          "name": "stderr",
          "text": [
            "INFO:werkzeug:\u001b[31m\u001b[1mWARNING: This is a development server. Do not use it in a production deployment. Use a production WSGI server instead.\u001b[0m\n",
            " * Running on all addresses (0.0.0.0)\n",
            " * Running on http://127.0.0.1:5000\n",
            " * Running on http://172.28.0.12:5000\n",
            "INFO:werkzeug:\u001b[33mPress CTRL+C to quit\u001b[0m\n",
            "INFO:werkzeug: * Restarting with stat\n"
          ]
        }
      ]
    }
  ]
}
